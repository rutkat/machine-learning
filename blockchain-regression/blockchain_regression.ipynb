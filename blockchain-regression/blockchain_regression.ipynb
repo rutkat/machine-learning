{
 "cells": [
  {
   "cell_type": "code",
   "execution_count": 19,
   "metadata": {
    "id": "BeRtGbLvCkz0"
   },
   "outputs": [
    {
     "data": {
      "text/html": [
       "<div>\n",
       "<style scoped>\n",
       "    .dataframe tbody tr th:only-of-type {\n",
       "        vertical-align: middle;\n",
       "    }\n",
       "\n",
       "    .dataframe tbody tr th {\n",
       "        vertical-align: top;\n",
       "    }\n",
       "\n",
       "    .dataframe thead th {\n",
       "        text-align: right;\n",
       "    }\n",
       "</style>\n",
       "<table border=\"1\" class=\"dataframe\">\n",
       "  <thead>\n",
       "    <tr style=\"text-align: right;\">\n",
       "      <th></th>\n",
       "      <th>Timestamp</th>\n",
       "      <th>hash-rate</th>\n",
       "    </tr>\n",
       "  </thead>\n",
       "  <tbody>\n",
       "    <tr>\n",
       "      <th>0</th>\n",
       "      <td>2020-04-16 00:00:00</td>\n",
       "      <td>1.188161e+08</td>\n",
       "    </tr>\n",
       "    <tr>\n",
       "      <th>1</th>\n",
       "      <td>2020-04-17 00:00:00</td>\n",
       "      <td>1.188161e+08</td>\n",
       "    </tr>\n",
       "    <tr>\n",
       "      <th>2</th>\n",
       "      <td>2020-04-18 00:00:00</td>\n",
       "      <td>1.150541e+08</td>\n",
       "    </tr>\n",
       "    <tr>\n",
       "      <th>3</th>\n",
       "      <td>2020-04-19 00:00:00</td>\n",
       "      <td>1.149496e+08</td>\n",
       "    </tr>\n",
       "    <tr>\n",
       "      <th>4</th>\n",
       "      <td>2020-04-20 00:00:00</td>\n",
       "      <td>1.148451e+08</td>\n",
       "    </tr>\n",
       "    <tr>\n",
       "      <th>...</th>\n",
       "      <td>...</td>\n",
       "      <td>...</td>\n",
       "    </tr>\n",
       "    <tr>\n",
       "      <th>359</th>\n",
       "      <td>2021-04-10 00:00:00</td>\n",
       "      <td>1.675960e+08</td>\n",
       "    </tr>\n",
       "    <tr>\n",
       "      <th>360</th>\n",
       "      <td>2021-04-11 00:00:00</td>\n",
       "      <td>1.718680e+08</td>\n",
       "    </tr>\n",
       "    <tr>\n",
       "      <th>361</th>\n",
       "      <td>2021-04-12 00:00:00</td>\n",
       "      <td>1.717037e+08</td>\n",
       "    </tr>\n",
       "    <tr>\n",
       "      <th>362</th>\n",
       "      <td>2021-04-13 00:00:00</td>\n",
       "      <td>1.697320e+08</td>\n",
       "    </tr>\n",
       "    <tr>\n",
       "      <th>363</th>\n",
       "      <td>2021-04-14 00:00:00</td>\n",
       "      <td>1.694034e+08</td>\n",
       "    </tr>\n",
       "  </tbody>\n",
       "</table>\n",
       "<p>364 rows × 2 columns</p>\n",
       "</div>"
      ],
      "text/plain": [
       "               Timestamp     hash-rate\n",
       "0    2020-04-16 00:00:00  1.188161e+08\n",
       "1    2020-04-17 00:00:00  1.188161e+08\n",
       "2    2020-04-18 00:00:00  1.150541e+08\n",
       "3    2020-04-19 00:00:00  1.149496e+08\n",
       "4    2020-04-20 00:00:00  1.148451e+08\n",
       "..                   ...           ...\n",
       "359  2021-04-10 00:00:00  1.675960e+08\n",
       "360  2021-04-11 00:00:00  1.718680e+08\n",
       "361  2021-04-12 00:00:00  1.717037e+08\n",
       "362  2021-04-13 00:00:00  1.697320e+08\n",
       "363  2021-04-14 00:00:00  1.694034e+08\n",
       "\n",
       "[364 rows x 2 columns]"
      ]
     },
     "execution_count": 19,
     "metadata": {},
     "output_type": "execute_result"
    }
   ],
   "source": [
    "import pandas\n",
    "pandas.read_csv('sample_data/hash-rate.csv')"
   ]
  },
  {
   "cell_type": "code",
   "execution_count": 20,
   "metadata": {
    "id": "O2e4EU2fF0mN"
   },
   "outputs": [
    {
     "data": {
      "text/plain": [
       "['cost-per-transaction-percent.csv',\n",
       " 'hash-rate.csv',\n",
       " 'market-price.csv',\n",
       " 'network-difficulty.csv',\n",
       " 'n-transactions-total.csv']"
      ]
     },
     "execution_count": 20,
     "metadata": {},
     "output_type": "execute_result"
    }
   ],
   "source": [
    "files = []\n",
    "import os\n",
    "\n",
    "for _,_, file in os.walk(\".\"):\n",
    "  for file_name in file:\n",
    "    if file_name.endswith(\"csv\"):\n",
    "      files.append(file_name)\n",
    "\n",
    "files"
   ]
  },
  {
   "cell_type": "code",
   "execution_count": 21,
   "metadata": {
    "id": "O8dP8XsgI5vW"
   },
   "outputs": [],
   "source": [
    "dataframe = None\n",
    "\n",
    "for file in files:\n",
    "  if dataframe is None:\n",
    "    dataframe = pandas.read_csv(f\"./sample_data/{file}\",\n",
    "                                names = [\"time\", file.replace(\".csv\", \"\")])\n",
    "  else:\n",
    "    temporary_dataframe = pandas.read_csv(f\"./sample_data/{file}\",\n",
    "                                          names = [\"time\",\n",
    "                                                   file.replace(\".csv\", \"\")])\n",
    "    dataframe = pandas.merge(dataframe, temporary_dataframe)"
   ]
  },
  {
   "cell_type": "code",
   "execution_count": 22,
   "metadata": {
    "id": "E5BaQHYpJbIs"
   },
   "outputs": [],
   "source": [
    "dataframe = dataframe[1:]"
   ]
  },
  {
   "cell_type": "code",
   "execution_count": 23,
   "metadata": {
    "id": "9iHVRAI7aKbC"
   },
   "outputs": [
    {
     "name": "stdout",
     "output_type": "stream",
     "text": [
      "<class 'pandas.core.frame.DataFrame'>\n",
      "RangeIndex: 0 entries\n",
      "Data columns (total 6 columns):\n",
      " #   Column                        Non-Null Count  Dtype \n",
      "---  ------                        --------------  ----- \n",
      " 0   time                          0 non-null      object\n",
      " 1   cost-per-transaction-percent  0 non-null      object\n",
      " 2   hash-rate                     0 non-null      object\n",
      " 3   market-price                  0 non-null      object\n",
      " 4   network-difficulty            0 non-null      object\n",
      " 5   n-transactions-total          0 non-null      object\n",
      "dtypes: object(6)\n",
      "memory usage: 132.0+ bytes\n"
     ]
    }
   ],
   "source": [
    "dataframe.info()\n"
   ]
  },
  {
   "cell_type": "code",
   "execution_count": null,
   "metadata": {
    "id": "6GoGehkBiDjk"
   },
   "outputs": [],
   "source": [
    "dataframe[\"time\"] = pandas.to_datetime(dataframe[\"time\"],\n",
    "                                       format=\"%Y-%m-%d %H:%M:%S\")\n",
    "dataframe.info()"
   ]
  },
  {
   "cell_type": "code",
   "execution_count": null,
   "metadata": {
    "id": "6GoGehkBiDjk"
   },
   "outputs": [],
   "source": [
    "dataframe = dataframe.apply(pandas.to_numeric).info()"
   ]
  },
  {
   "cell_type": "code",
   "execution_count": null,
   "metadata": {
    "id": "LMhKc5P4j9Sq"
   },
   "outputs": [],
   "source": [
    "columns = list(dataframe.columns)\n",
    "columns.remove(\"time\")\n",
    "columns"
   ]
  },
  {
   "cell_type": "code",
   "execution_count": null,
   "metadata": {
    "id": "F_lxRXL9j-i7"
   },
   "outputs": [],
   "source": [
    "import matplotlib.pyplot as pyplot\n",
    "\n",
    "fig = pyplot.figure(figsize=(35, 10))\n",
    "\n",
    "COLUMNS = 2\n",
    "ROWS = 4\n",
    "\n",
    "for index in range(len(columns)):\n",
    "  fig.add_subplot(ROWS, COLUMNS, index +1)\n",
    "  current_feature = columns[index]\n",
    "  pyplot.plot(dataframe[\"time\"],\n",
    "              dataframe[current_feature])\n",
    "pyplot.show()\n"
   ]
  },
  {
   "cell_type": "code",
   "execution_count": null,
   "metadata": {
    "id": "h5dh5kKblZzl"
   },
   "outputs": [],
   "source": [
    "dataframe.info()\n"
   ]
  },
  {
   "cell_type": "code",
   "execution_count": null,
   "metadata": {
    "id": "IIgNpYgzlb-p"
   },
   "outputs": [],
   "source": [
    "NUMBER_OF_TRANSACTIONS_INDEX = 8\n",
    "END_RANGE = NUMBER_OF_TRANSACTIONS_INDEX + 1\n",
    "X = dataframe.iloc[:, NUMBER_OF_TRANSACTIONS_INDEX:END_RANGE]\n",
    "X\n"
   ]
  },
  {
   "cell_type": "code",
   "execution_count": null,
   "metadata": {
    "id": "RGGDE8ZKnCUn"
   },
   "outputs": [],
   "source": [
    "MARKET_PRICE_INDEX = 7\n",
    "y = dataframe.iloc[:, MARKET_PRICE_INDEX]\n",
    "y.values"
   ]
  },
  {
   "cell_type": "code",
   "execution_count": null,
   "metadata": {
    "id": "8q1d3ahmq5SP"
   },
   "outputs": [],
   "source": [
    "# x, y sizes should match\n",
    "X.size\n",
    "y.size"
   ]
  },
  {
   "cell_type": "code",
   "execution_count": null,
   "metadata": {
    "colab": {
     "base_uri": "https://localhost:8080/",
     "height": 482
    },
    "id": "30T-Qamlq7ji",
    "outputId": "f1dba877-432c-459d-cf8a-ee75b70b28b6"
   },
   "outputs": [],
   "source": [
    "from sklearn.linear_model import LinearRegression\n",
    "model = LinearRegression()\n",
    "model.fit(X, y)\n",
    "\n",
    "pyplot.scatter(X, y)\n",
    "\n",
    "pyplot.ylabel(\"Bitcoin Price\")\n",
    "pyplot.xlabel(\"Freature: Number of Transactions\")\n",
    "pyplot.plot(X, model.predict(X), color=\"orange\")"
   ]
  },
  {
   "cell_type": "code",
   "execution_count": null,
   "metadata": {
    "colab": {
     "base_uri": "https://localhost:8080/",
     "height": 462
    },
    "id": "rWe3emnbrR_x",
    "outputId": "af607f77-3c1e-42d0-b1d1-451c0586ee93"
   },
   "outputs": [],
   "source": [
    "from sklearn.preprocessing import PolynomialFeatures\n",
    "\n",
    "X_DEGREE = 3\n",
    "polynomial_features = PolynomialFeatures(degree = X_DEGREE)\n",
    "\n",
    "X_polynomial = polynomial_features.fit_transform(X)\n",
    "polynomial_features.fit(X_polynomial, y)\n",
    "\n",
    "linear_model = LinearRegression()\n",
    "linear_model.fit(X_polynomial, y)\n",
    "\n",
    "pyplot.scatter(X, y)\n",
    "pyplot.plot(X, linear_model.predict(polynomial_features.fit_transform(X)))\n"
   ]
  },
  {
   "cell_type": "code",
   "execution_count": null,
   "metadata": {
    "id": "kEx27Cgvsy5Q"
   },
   "outputs": [],
   "source": []
  }
 ],
 "metadata": {
  "colab": {
   "provenance": []
  },
  "kernelspec": {
   "display_name": "Python [conda env:base] *",
   "language": "python",
   "name": "conda-base-py"
  },
  "language_info": {
   "codemirror_mode": {
    "name": "ipython",
    "version": 3
   },
   "file_extension": ".py",
   "mimetype": "text/x-python",
   "name": "python",
   "nbconvert_exporter": "python",
   "pygments_lexer": "ipython3",
   "version": "3.12.7"
  }
 },
 "nbformat": 4,
 "nbformat_minor": 4
}
