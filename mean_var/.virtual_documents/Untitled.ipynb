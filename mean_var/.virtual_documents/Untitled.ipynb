import numpy as np





# Create list
digits = np.arange(9)
print(digits)


# Convert to matrix array
matrix = digits.reshape(3, 3)
print(


# Get mean by row
matrix.mean(axis=0).tolist()


# Get mean by column
matrix.mean(axis=1).tolist()


# Get flattened mean
matrix.mean()


# Get variance by row
matrix.var(axis=0).tolist()


# Get variance by column
matrix.var(axis=1).tolist()


# Get flattened variance
matrix.var()



