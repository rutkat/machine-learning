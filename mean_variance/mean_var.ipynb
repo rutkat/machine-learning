{
 "cells": [
  {
   "cell_type": "code",
   "execution_count": 1,
   "id": "bea52a8b-b9cd-4101-a4db-d8e71c78015f",
   "metadata": {},
   "outputs": [],
   "source": [
    "import numpy as np"
   ]
  },
  {
   "cell_type": "markdown",
   "id": "a220c9c3-2984-4b6d-9d80-e7fb66ac9b43",
   "metadata": {},
   "source": [
    "Assignment:\n",
    "Create a function named calculate() in mean_var_std.py that uses Numpy to output the mean, variance, standard deviation, max, min, and sum of the rows, columns, and elements in a 3 x 3 matrix.\n",
    "\n",
    "The return object should appear as:\n",
    "{\n",
    "  'mean': [axis1, axis2, flattened],\n",
    "  'variance': [axis1, axis2, flattened],\n",
    "  'standard deviation': [axis1, axis2, flattened],\n",
    "  'max': [axis1, axis2, flattened],\n",
    "  'min': [axis1, axis2, flattened],\n",
    "  'sum': [axis1, axis2, flattened]\n",
    "}"
   ]
  },
  {
   "cell_type": "code",
   "execution_count": 9,
   "id": "50883830-0d92-4d04-8fef-da5f60a4ac51",
   "metadata": {},
   "outputs": [],
   "source": [
    "# Create list\n",
    "digits = np.arange(9)\n",
    "print(digits)"
   ]
  },
  {
   "cell_type": "code",
   "execution_count": 10,
   "id": "d308c5b6-8ccd-47f7-be8a-80346afc73d0",
   "metadata": {},
   "outputs": [
    {
     "name": "stdout",
     "output_type": "stream",
     "text": [
      "[[0 1 2]\n",
      " [3 4 5]\n",
      " [6 7 8]]\n"
     ]
    }
   ],
   "source": [
    "# Convert to matrix array\n",
    "matrix = digits.reshape(3, 3)\n",
    "print("
   ]
  },
  {
   "cell_type": "code",
   "execution_count": 22,
   "id": "66bbaa92-e4fc-4898-8013-5ffc65721e32",
   "metadata": {
    "scrolled": true
   },
   "outputs": [
    {
     "data": {
      "text/plain": [
       "[3.0, 4.0, 5.0]"
      ]
     },
     "execution_count": 22,
     "metadata": {},
     "output_type": "execute_result"
    }
   ],
   "source": [
    "# Get mean by row\n",
    "matrix.mean(axis=0).tolist()"
   ]
  },
  {
   "cell_type": "code",
   "execution_count": 23,
   "id": "37dbb881-0e38-4101-82c1-05b50807f58f",
   "metadata": {},
   "outputs": [
    {
     "data": {
      "text/plain": [
       "[1.0, 4.0, 7.0]"
      ]
     },
     "execution_count": 23,
     "metadata": {},
     "output_type": "execute_result"
    }
   ],
   "source": [
    "# Get mean by column\n",
    "matrix.mean(axis=1).tolist()"
   ]
  },
  {
   "cell_type": "code",
   "execution_count": 24,
   "id": "71254f31-665f-4578-b2d3-91c31ae3f938",
   "metadata": {},
   "outputs": [
    {
     "data": {
      "text/plain": [
       "4.0"
      ]
     },
     "execution_count": 24,
     "metadata": {},
     "output_type": "execute_result"
    }
   ],
   "source": [
    "# Get flattened mean\n",
    "matrix.mean()"
   ]
  },
  {
   "cell_type": "code",
   "execution_count": 43,
   "id": "679f4161-3af6-4266-84bc-55675e29dd82",
   "metadata": {},
   "outputs": [
    {
     "data": {
      "text/plain": [
       "[[3.0, 4.0, 5.0], [1.0, 4.0, 7.0], 4.0]"
      ]
     },
     "execution_count": 43,
     "metadata": {},
     "output_type": "execute_result"
    }
   ],
   "source": [
    "# Combined functions\n",
    "[matrix.mean(axis=0).tolist(), matrix.mean(axis=1).tolist(), matrix.mean()]"
   ]
  },
  {
   "cell_type": "code",
   "execution_count": 27,
   "id": "e1d9c06d-11aa-4236-a1a2-0ef3c9dcb116",
   "metadata": {},
   "outputs": [
    {
     "data": {
      "text/plain": [
       "[6.0, 6.0, 6.0]"
      ]
     },
     "execution_count": 27,
     "metadata": {},
     "output_type": "execute_result"
    }
   ],
   "source": [
    "# Get variance by row\n",
    "matrix.var(axis=0).tolist()"
   ]
  },
  {
   "cell_type": "code",
   "execution_count": 28,
   "id": "3fc4f251-98a4-4e84-b478-c00af2ab91a1",
   "metadata": {},
   "outputs": [
    {
     "data": {
      "text/plain": [
       "[0.6666666666666666, 0.6666666666666666, 0.6666666666666666]"
      ]
     },
     "execution_count": 28,
     "metadata": {},
     "output_type": "execute_result"
    }
   ],
   "source": [
    "# Get variance by column\n",
    "matrix.var(axis=1).tolist()"
   ]
  },
  {
   "cell_type": "code",
   "execution_count": 29,
   "id": "4bbee34f-bc7b-4c38-ac8b-157c919d2874",
   "metadata": {},
   "outputs": [
    {
     "data": {
      "text/plain": [
       "6.666666666666667"
      ]
     },
     "execution_count": 29,
     "metadata": {},
     "output_type": "execute_result"
    }
   ],
   "source": [
    "# Get flattened variance\n",
    "matrix.var()"
   ]
  },
  {
   "cell_type": "code",
   "execution_count": 30,
   "id": "f74eaaa3-6df6-4b48-bb02-80e9e869fefe",
   "metadata": {},
   "outputs": [
    {
     "data": {
      "text/plain": [
       "[2.449489742783178, 2.449489742783178, 2.449489742783178]"
      ]
     },
     "execution_count": 30,
     "metadata": {},
     "output_type": "execute_result"
    }
   ],
   "source": [
    "# Get standard deviation by row\n",
    "matrix.std(axis=0).tolist()"
   ]
  },
  {
   "cell_type": "code",
   "execution_count": 31,
   "id": "a1e33be2-0fab-4b8f-bcc0-8f370792b521",
   "metadata": {},
   "outputs": [
    {
     "data": {
      "text/plain": [
       "[0.816496580927726, 0.816496580927726, 0.816496580927726]"
      ]
     },
     "execution_count": 31,
     "metadata": {},
     "output_type": "execute_result"
    }
   ],
   "source": [
    "# Get standard deviation by column\n",
    "matrix.std(axis=1).tolist()"
   ]
  },
  {
   "cell_type": "code",
   "execution_count": 32,
   "id": "f336d757-230b-478e-b09e-8cfc2de72cef",
   "metadata": {},
   "outputs": [
    {
     "data": {
      "text/plain": [
       "2.581988897471611"
      ]
     },
     "execution_count": 32,
     "metadata": {},
     "output_type": "execute_result"
    }
   ],
   "source": [
    "# Get flattened standard deviation\n",
    "matrix.std()"
   ]
  },
  {
   "cell_type": "code",
   "execution_count": 35,
   "id": "dfa202bf-e69f-45ef-a23f-38aa734c1719",
   "metadata": {},
   "outputs": [
    {
     "data": {
      "text/plain": [
       "[6, 7, 8]"
      ]
     },
     "execution_count": 35,
     "metadata": {},
     "output_type": "execute_result"
    }
   ],
   "source": [
    "# Get max by row\n",
    "matrix.max(axis=0).tolist()"
   ]
  },
  {
   "cell_type": "code",
   "execution_count": 36,
   "id": "c3e53cf0-a7a7-43af-af4b-a99b55628187",
   "metadata": {},
   "outputs": [
    {
     "data": {
      "text/plain": [
       "[2, 5, 8]"
      ]
     },
     "execution_count": 36,
     "metadata": {},
     "output_type": "execute_result"
    }
   ],
   "source": [
    "# Get max by column\n",
    "matrix.max(axis=1).tolist()"
   ]
  },
  {
   "cell_type": "code",
   "execution_count": 37,
   "id": "70439f16-c5f9-4260-b188-76876ad02fd0",
   "metadata": {},
   "outputs": [
    {
     "data": {
      "text/plain": [
       "8"
      ]
     },
     "execution_count": 37,
     "metadata": {},
     "output_type": "execute_result"
    }
   ],
   "source": [
    "# Get flattened max\n",
    "matrix.max()"
   ]
  },
  {
   "cell_type": "code",
   "execution_count": 38,
   "id": "c89caefb-9c3a-45e6-8822-2f33db3e2c4c",
   "metadata": {},
   "outputs": [
    {
     "data": {
      "text/plain": [
       "[0, 1, 2]"
      ]
     },
     "execution_count": 38,
     "metadata": {},
     "output_type": "execute_result"
    }
   ],
   "source": [
    "# Get min by row\n",
    "matrix.min(axis=0).tolist()"
   ]
  },
  {
   "cell_type": "code",
   "execution_count": 41,
   "id": "d69e083f-4070-4880-bab0-1928b0119459",
   "metadata": {},
   "outputs": [
    {
     "data": {
      "text/plain": [
       "[0, 3, 6]"
      ]
     },
     "execution_count": 41,
     "metadata": {},
     "output_type": "execute_result"
    }
   ],
   "source": [
    "# Get min by column\n",
    "matrix.min(axis=1).tolist()"
   ]
  },
  {
   "cell_type": "code",
   "execution_count": 42,
   "id": "4a9cb536-3df0-4c94-aae3-05ce9560b51d",
   "metadata": {},
   "outputs": [
    {
     "data": {
      "text/plain": [
       "0"
      ]
     },
     "execution_count": 42,
     "metadata": {},
     "output_type": "execute_result"
    }
   ],
   "source": [
    "# Get flattened min\n",
    "matrix.min()"
   ]
  },
  {
   "cell_type": "code",
   "execution_count": null,
   "id": "9d0df6f4-b577-479b-b21e-315208156e85",
   "metadata": {},
   "outputs": [],
   "source": []
  }
 ],
 "metadata": {
  "kernelspec": {
   "display_name": "Python [conda env:base] *",
   "language": "python",
   "name": "conda-base-py"
  },
  "language_info": {
   "codemirror_mode": {
    "name": "ipython",
    "version": 3
   },
   "file_extension": ".py",
   "mimetype": "text/x-python",
   "name": "python",
   "nbconvert_exporter": "python",
   "pygments_lexer": "ipython3",
   "version": "3.12.7"
  }
 },
 "nbformat": 4,
 "nbformat_minor": 5
}
